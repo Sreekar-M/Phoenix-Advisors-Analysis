{
 "cells": [
  {
   "cell_type": "markdown",
   "id": "5612d4c9",
   "metadata": {},
   "source": [
    "#### Problem Statement 3: Identify key patterns observed in the dataset, highlighting significant trends or correlations that provide valuable insights. At least 5 major findings"
   ]
  },
  {
   "cell_type": "code",
   "execution_count": 2,
   "id": "88a0aae0",
   "metadata": {},
   "outputs": [],
   "source": [
    "import numpy as np\n",
    "import pandas as pd\n",
    "import seaborn as sns\n",
    "import matplotlib.pyplot as plt"
   ]
  },
  {
   "cell_type": "code",
   "execution_count": 3,
   "id": "c1c67407",
   "metadata": {},
   "outputs": [
    {
     "name": "stdout",
     "output_type": "stream",
     "text": [
      "Activity Details\n",
      "   CONTACT_ID ACTIVITY TYPE ACTIVITY DATE  ACTIVITY DATE KEY\n",
      "0        1153     PhoneCall    2022-06-02           20220602\n",
      "1        1129          Note    2022-06-22           20220622\n",
      "2        1700          Note    2022-07-21           20220721\n",
      "3        1978         Email    2021-09-28           20210928\n",
      "4        1978      FollowUp    2022-03-16           20220316\n",
      "\n",
      "Advisors Details\n",
      "   CONTACT ID NICK_NAME FIRST_NAME MIDDLE_NAME LAST_NAME PREFIX SUFFIX  \\\n",
      "0        1001       Tua       Tuan         NaN  Roettgen    NaN    NaN   \n",
      "1        1002       Cha       Chad         NaN  Stofleth    Ms.    NaN   \n",
      "2        1003       Arl      Arlen         NaN  Bierling    NaN    NaN   \n",
      "3        1004       Oti       Otis         NaN    Mathen    NaN    NaN   \n",
      "4        1005       Sun       Sung         NaN      Kiep    Mr.    NaN   \n",
      "\n",
      "   MOBILE_PHONE  FIRM ID              PRIMARY_EMAIL UNSUBSCRIBED  \\\n",
      "0  554-882-3214    12087   Tuan.Roettgen@Janney.com  Not Blocked   \n",
      "1  215-781-4188    10389      Chad.Stofleth@wfa.com      Blocked   \n",
      "2           NaN    12087  Arlen.Bierling@Janney.com  Not Blocked   \n",
      "3  664-376-7849    12087     Otis.Mathen@Janney.com  Not Blocked   \n",
      "4  959-323-5894    10678          Sung.Kiep@ubs.com  Not Blocked   \n",
      "\n",
      "            STREET_1        CITY          STATE    ZIP COUNTRY    SEGMENT  \\\n",
      "0    6088 Hanna Blvd  Carrollton      Minnesota  28045      US  Uncovered   \n",
      "1    6055 William Ln       Fargo       Virginia  42450      US  Uncovered   \n",
      "2      9220 Liebe St  Fort Wayne       Oklahoma  46536      US  Uncovered   \n",
      "3  1692 Henderson Ln   Escondido      Minnesota  90813      US  Uncovered   \n",
      "4    6088 Po Box Trl   Anchorage  Massachusetts  47638      US  Uncovered   \n",
      "\n",
      "   BIRTHDATE  Industry EXP  Firm EXP  \n",
      "0 1974-07-12             4         4  \n",
      "1 1975-11-13             4         4  \n",
      "2 1985-10-02             2         2  \n",
      "3 1975-04-10             1         1  \n",
      "4 1970-10-11             5         5  \n",
      "\n",
      "Asset Details\n",
      "   CONTACT_ID  ASSET_MONTH_KEY        USD_MV\n",
      "0        1208           202203  3.612423e+04\n",
      "1        1130           202205  7.361280e+03\n",
      "2        1230           202203  1.297039e+02\n",
      "3        1716           202208  1.203178e+04\n",
      "4        1781           202106  1.014564e+06\n",
      "\n",
      "Firm Details\n",
      "   FIRM ID           FIRM  PARENT FIRM ID    PARENT FIRM\n",
      "0    10450  Raymond James           10450  Raymond James\n",
      "1    13980            RBC           14090     RBC Parent\n",
      "2    10890      JP Morgan           10890      JP Morgan\n",
      "3    10389    Wells Fargo           10389    Wells Fargo\n",
      "4    10045   Edward Jones           10045   Edward Jones\n",
      "\n",
      "Transactional Details\n",
      "   CONTACT_ID  TRADE_DATE_KEY       USD_AMT TRADE_CLASS_CODE\n",
      "0        1079        20220725 -2.832932e+04                R\n",
      "1        1715        20211204  1.358365e+05                S\n",
      "2        1866        20210725  1.730403e+05                R\n",
      "3        1698        20220522  5.311246e+07                S\n",
      "4        1677        20210805 -1.583990e+05                R\n"
     ]
    }
   ],
   "source": [
    "Activity_Details = pd.read_excel(\"Activity Details.xlsx\")\n",
    "print(\"Activity Details\")\n",
    "print(Activity_Details.head())\n",
    "\n",
    "Advisors_Details = pd.read_excel(\"Advisors Details.xlsx\")\n",
    "print(\"\\nAdvisors Details\")\n",
    "print(Advisors_Details.head())\n",
    "\n",
    "Asset_Details = pd.read_excel(\"Asset Details.xlsx\")\n",
    "print(\"\\nAsset Details\")\n",
    "print(Asset_Details.head())\n",
    "\n",
    "Firm_Details = pd.read_excel(\"Firm Details.xlsx\")\n",
    "print(\"\\nFirm Details\")\n",
    "print(Firm_Details.head())\n",
    "\n",
    "Transaction_Details = pd.read_excel(\"Transactional Details.xlsx\")\n",
    "print(\"\\nTransactional Details\")\n",
    "print(Transaction_Details.head())"
   ]
  },
  {
   "cell_type": "markdown",
   "id": "d32c20c8",
   "metadata": {},
   "source": [
    "### Insight 1: Line Graph for Asset Price of different firms.<br>"
   ]
  },
  {
   "cell_type": "markdown",
   "id": "f9a6a538",
   "metadata": {},
   "source": [
    "We basically need Asset Prices of a Single Firm for different months.\n",
    "First of all we need a table which gives details of Firms of different contact IDs"
   ]
  },
  {
   "cell_type": "code",
   "execution_count": 4,
   "id": "2be162f6",
   "metadata": {},
   "outputs": [
    {
     "data": {
      "text/html": [
       "<div>\n",
       "<style scoped>\n",
       "    .dataframe tbody tr th:only-of-type {\n",
       "        vertical-align: middle;\n",
       "    }\n",
       "\n",
       "    .dataframe tbody tr th {\n",
       "        vertical-align: top;\n",
       "    }\n",
       "\n",
       "    .dataframe thead th {\n",
       "        text-align: right;\n",
       "    }\n",
       "</style>\n",
       "<table border=\"1\" class=\"dataframe\">\n",
       "  <thead>\n",
       "    <tr style=\"text-align: right;\">\n",
       "      <th></th>\n",
       "      <th>CONTACT ID</th>\n",
       "      <th>FIRM ID</th>\n",
       "      <th>FIRM</th>\n",
       "    </tr>\n",
       "  </thead>\n",
       "  <tbody>\n",
       "    <tr>\n",
       "      <th>0</th>\n",
       "      <td>1001</td>\n",
       "      <td>12087</td>\n",
       "      <td>Janney</td>\n",
       "    </tr>\n",
       "    <tr>\n",
       "      <th>1</th>\n",
       "      <td>1002</td>\n",
       "      <td>10389</td>\n",
       "      <td>Wells Fargo</td>\n",
       "    </tr>\n",
       "    <tr>\n",
       "      <th>2</th>\n",
       "      <td>1003</td>\n",
       "      <td>12087</td>\n",
       "      <td>Janney</td>\n",
       "    </tr>\n",
       "    <tr>\n",
       "      <th>3</th>\n",
       "      <td>1004</td>\n",
       "      <td>12087</td>\n",
       "      <td>Janney</td>\n",
       "    </tr>\n",
       "    <tr>\n",
       "      <th>4</th>\n",
       "      <td>1005</td>\n",
       "      <td>10678</td>\n",
       "      <td>UBS</td>\n",
       "    </tr>\n",
       "  </tbody>\n",
       "</table>\n",
       "</div>"
      ],
      "text/plain": [
       "   CONTACT ID  FIRM ID         FIRM\n",
       "0        1001    12087       Janney\n",
       "1        1002    10389  Wells Fargo\n",
       "2        1003    12087       Janney\n",
       "3        1004    12087       Janney\n",
       "4        1005    10678          UBS"
      ]
     },
     "execution_count": 4,
     "metadata": {},
     "output_type": "execute_result"
    }
   ],
   "source": [
    "Advisors_Firms = Advisors_Details[['CONTACT ID', 'FIRM ID']]\n",
    "df_2 = Firm_Details[['FIRM ID', 'FIRM']]\n",
    "Advisors_Firms = pd.merge(Advisors_Firms, df_2, on='FIRM ID', how=\"left\")\n",
    "Advisors_Firms.head()"
   ]
  },
  {
   "cell_type": "code",
   "execution_count": 5,
   "id": "bb6f7b50",
   "metadata": {},
   "outputs": [
    {
     "data": {
      "text/plain": [
       "FIRM\n",
       "Raymond James       132\n",
       "UBS                 116\n",
       "Janney              111\n",
       "JP Morgan           110\n",
       "RBC                 109\n",
       "Edward Jones        108\n",
       "Bofa                106\n",
       "Morgan Stanley      105\n",
       "Wells Fargo          99\n",
       "Stark Enterprise      2\n",
       "Wayne Enterprise      1\n",
       "Wakanda Ltd           1\n",
       "Name: count, dtype: int64"
      ]
     },
     "execution_count": 5,
     "metadata": {},
     "output_type": "execute_result"
    }
   ],
   "source": [
    "Advisors_Firms['FIRM'].value_counts()"
   ]
  },
  {
   "cell_type": "markdown",
   "id": "5cac1ca3",
   "metadata": {},
   "source": [
    "We shall use the above dataset to merge it with the Asset_Details dataset.\n"
   ]
  },
  {
   "cell_type": "code",
   "execution_count": 6,
   "id": "8146c2bf",
   "metadata": {},
   "outputs": [
    {
     "name": "stdout",
     "output_type": "stream",
     "text": [
      "<class 'pandas.core.frame.DataFrame'>\n",
      "RangeIndex: 15548 entries, 0 to 15547\n",
      "Data columns (total 6 columns):\n",
      " #   Column           Non-Null Count  Dtype  \n",
      "---  ------           --------------  -----  \n",
      " 0   CONTACT_ID       15548 non-null  int64  \n",
      " 1   ASSET_MONTH_KEY  15548 non-null  object \n",
      " 2   USD_MV           15548 non-null  float64\n",
      " 3   CONTACT ID       15548 non-null  int64  \n",
      " 4   FIRM ID          15548 non-null  int64  \n",
      " 5   FIRM             15548 non-null  object \n",
      "dtypes: float64(1), int64(3), object(2)\n",
      "memory usage: 728.9+ KB\n"
     ]
    }
   ],
   "source": [
    "Asset_Details_With_Firms = pd.merge(Asset_Details, Advisors_Firms, left_on='CONTACT_ID', right_on='CONTACT ID', how=\"left\")\n",
    "Asset_Details_With_Firms.head()\n",
    "Asset_Details_With_Firms['ASSET_MONTH_KEY'] = Asset_Details_With_Firms['ASSET_MONTH_KEY'].astype('str')\n",
    "Asset_Details_With_Firms.info()"
   ]
  },
  {
   "cell_type": "code",
   "execution_count": 7,
   "id": "8b050fe2",
   "metadata": {},
   "outputs": [
    {
     "data": {
      "text/plain": [
       "['Raymond James',\n",
       " 'RBC',\n",
       " 'JP Morgan',\n",
       " 'Wells Fargo',\n",
       " 'Edward Jones',\n",
       " 'Morgan Stanley',\n",
       " 'Bofa',\n",
       " 'UBS',\n",
       " 'Janney',\n",
       " 'Wayne Enterprise',\n",
       " 'Stark Enterprise',\n",
       " 'Wakanda Ltd']"
      ]
     },
     "execution_count": 7,
     "metadata": {},
     "output_type": "execute_result"
    }
   ],
   "source": [
    "# create a list of all the firms present\n",
    "firms = list(Firm_Details['FIRM'])\n",
    "firms"
   ]
  },
  {
   "cell_type": "markdown",
   "id": "f4f174ea",
   "metadata": {},
   "source": [
    "We are creating a Dictionary with the keys as the firm names and values as the asset price in USD_MV"
   ]
  },
  {
   "cell_type": "code",
   "execution_count": 8,
   "id": "7daf741c",
   "metadata": {},
   "outputs": [
    {
     "data": {
      "text/plain": [
       "([0, 1, 2, 3, 4, 5, 6, 7, 8, 9, 10, 11, 12, 13, 14, 15],\n",
       " [Text(0, 0, '202106'),\n",
       "  Text(1, 0, '202107'),\n",
       "  Text(2, 0, '202108'),\n",
       "  Text(3, 0, '202109'),\n",
       "  Text(4, 0, '202110'),\n",
       "  Text(5, 0, '202111'),\n",
       "  Text(6, 0, '202112'),\n",
       "  Text(7, 0, '202201'),\n",
       "  Text(8, 0, '202202'),\n",
       "  Text(9, 0, '202203'),\n",
       "  Text(10, 0, '202204'),\n",
       "  Text(11, 0, '202205'),\n",
       "  Text(12, 0, '202206'),\n",
       "  Text(13, 0, '202207'),\n",
       "  Text(14, 0, '202208'),\n",
       "  Text(15, 0, '202209')])"
      ]
     },
     "execution_count": 8,
     "metadata": {},
     "output_type": "execute_result"
    },
    {
     "data": {
      "image/png": "[encoded data removed]",
      "text/plain": [
       "<Figure size 640x480 with 1 Axes>"
      ]
     },
     "metadata": {},
     "output_type": "display_data"
    }
   ],
   "source": [
    "dat = Asset_Details_With_Firms[Asset_Details_With_Firms['CONTACT_ID']==1400].sort_values('ASSET_MONTH_KEY')\n",
    "sns.lineplot(data=dat, x='ASSET_MONTH_KEY', y='USD_MV')\n",
    "plt.xticks(rotation='vertical')"
   ]
  },
  {
   "cell_type": "code",
   "execution_count": 9,
   "id": "c050e346",
   "metadata": {},
   "outputs": [],
   "source": [
    "Data_Dict = {}\n",
    "for firm in firms:\n",
    "    Data_Set = Asset_Details_With_Firms[Asset_Details_With_Firms['FIRM']==firm]\n",
    "    Data_Set = Data_Set.groupby(['ASSET_MONTH_KEY']).sum('USD_MV')\n",
    "    Data_Set = Data_Set.reset_index()\n",
    "    Data_Set = Data_Set[['ASSET_MONTH_KEY', 'USD_MV']]\n",
    "    Data_Dict[firm] = Data_Set"
   ]
  },
  {
   "cell_type": "code",
   "execution_count": 10,
   "id": "890e076e",
   "metadata": {},
   "outputs": [
    {
     "data": {
      "image/png": "[encoded data removed]",
      "text/plain": [
       "<Figure size 1500x400 with 1 Axes>"
      ]
     },
     "metadata": {},
     "output_type": "display_data"
    }
   ],
   "source": [
    "fig, ax = plt.subplots(figsize=(15,4))\n",
    "for firm, DL in Data_Dict.items():\n",
    "    sns.lineplot(data=DL, x='ASSET_MONTH_KEY', y='USD_MV', label=firm, ax=ax)\n",
    "plt.legend()\n",
    "plt.show()"
   ]
  },
  {
   "cell_type": "markdown",
   "id": "b3964ad2",
   "metadata": {},
   "source": [
    "### Insight 2: The asset price of all the firms has increased overall in the past 16 months. "
   ]
  },
  {
   "cell_type": "markdown",
   "id": "d823a5eb",
   "metadata": {},
   "source": [
    "### Insight 3: Asset Price value of the firms arranged in descending order."
   ]
  },
  {
   "cell_type": "code",
   "execution_count": 11,
   "id": "ecb7e847",
   "metadata": {},
   "outputs": [
    {
     "data": {
      "text/html": [
       "<div>\n",
       "<style scoped>\n",
       "    .dataframe tbody tr th:only-of-type {\n",
       "        vertical-align: middle;\n",
       "    }\n",
       "\n",
       "    .dataframe tbody tr th {\n",
       "        vertical-align: top;\n",
       "    }\n",
       "\n",
       "    .dataframe thead th {\n",
       "        text-align: right;\n",
       "    }\n",
       "</style>\n",
       "<table border=\"1\" class=\"dataframe\">\n",
       "  <thead>\n",
       "    <tr style=\"text-align: right;\">\n",
       "      <th></th>\n",
       "      <th>CONTACT_ID</th>\n",
       "      <th>USD_MV</th>\n",
       "      <th>CONTACT ID</th>\n",
       "      <th>FIRM ID</th>\n",
       "    </tr>\n",
       "    <tr>\n",
       "      <th>FIRM</th>\n",
       "      <th></th>\n",
       "      <th></th>\n",
       "      <th></th>\n",
       "      <th></th>\n",
       "    </tr>\n",
       "  </thead>\n",
       "  <tbody>\n",
       "    <tr>\n",
       "      <th>UBS</th>\n",
       "      <td>176453</td>\n",
       "      <td>2.226850e+09</td>\n",
       "      <td>176453</td>\n",
       "      <td>1238648</td>\n",
       "    </tr>\n",
       "    <tr>\n",
       "      <th>Wells Fargo</th>\n",
       "      <td>145600</td>\n",
       "      <td>1.931325e+09</td>\n",
       "      <td>145600</td>\n",
       "      <td>1028511</td>\n",
       "    </tr>\n",
       "    <tr>\n",
       "      <th>JP Morgan</th>\n",
       "      <td>158289</td>\n",
       "      <td>1.759560e+09</td>\n",
       "      <td>158289</td>\n",
       "      <td>1176120</td>\n",
       "    </tr>\n",
       "    <tr>\n",
       "      <th>Stark Enterprise</th>\n",
       "      <td>3369</td>\n",
       "      <td>1.185788e+09</td>\n",
       "      <td>3369</td>\n",
       "      <td>6000</td>\n",
       "    </tr>\n",
       "    <tr>\n",
       "      <th>RBC</th>\n",
       "      <td>162342</td>\n",
       "      <td>1.029316e+09</td>\n",
       "      <td>162342</td>\n",
       "      <td>1495860</td>\n",
       "    </tr>\n",
       "    <tr>\n",
       "      <th>Raymond James</th>\n",
       "      <td>189577</td>\n",
       "      <td>8.289937e+08</td>\n",
       "      <td>189577</td>\n",
       "      <td>1316700</td>\n",
       "    </tr>\n",
       "    <tr>\n",
       "      <th>Morgan Stanley</th>\n",
       "      <td>153073</td>\n",
       "      <td>6.791193e+08</td>\n",
       "      <td>153073</td>\n",
       "      <td>1044935</td>\n",
       "    </tr>\n",
       "    <tr>\n",
       "      <th>Edward Jones</th>\n",
       "      <td>163998</td>\n",
       "      <td>6.540463e+08</td>\n",
       "      <td>163998</td>\n",
       "      <td>1064770</td>\n",
       "    </tr>\n",
       "    <tr>\n",
       "      <th>Janney</th>\n",
       "      <td>163486</td>\n",
       "      <td>3.775579e+08</td>\n",
       "      <td>163486</td>\n",
       "      <td>1329570</td>\n",
       "    </tr>\n",
       "    <tr>\n",
       "      <th>Wakanda Ltd</th>\n",
       "      <td>1601</td>\n",
       "      <td>2.317911e+08</td>\n",
       "      <td>1601</td>\n",
       "      <td>2022</td>\n",
       "    </tr>\n",
       "    <tr>\n",
       "      <th>Bofa</th>\n",
       "      <td>157807</td>\n",
       "      <td>2.076381e+08</td>\n",
       "      <td>157807</td>\n",
       "      <td>1059345</td>\n",
       "    </tr>\n",
       "    <tr>\n",
       "      <th>Wayne Enterprise</th>\n",
       "      <td>1398</td>\n",
       "      <td>1.700298e+08</td>\n",
       "      <td>1398</td>\n",
       "      <td>2018</td>\n",
       "    </tr>\n",
       "  </tbody>\n",
       "</table>\n",
       "</div>"
      ],
      "text/plain": [
       "                  CONTACT_ID        USD_MV  CONTACT ID  FIRM ID\n",
       "FIRM                                                           \n",
       "UBS                   176453  2.226850e+09      176453  1238648\n",
       "Wells Fargo           145600  1.931325e+09      145600  1028511\n",
       "JP Morgan             158289  1.759560e+09      158289  1176120\n",
       "Stark Enterprise        3369  1.185788e+09        3369     6000\n",
       "RBC                   162342  1.029316e+09      162342  1495860\n",
       "Raymond James         189577  8.289937e+08      189577  1316700\n",
       "Morgan Stanley        153073  6.791193e+08      153073  1044935\n",
       "Edward Jones          163998  6.540463e+08      163998  1064770\n",
       "Janney                163486  3.775579e+08      163486  1329570\n",
       "Wakanda Ltd             1601  2.317911e+08        1601     2022\n",
       "Bofa                  157807  2.076381e+08      157807  1059345\n",
       "Wayne Enterprise        1398  1.700298e+08        1398     2018"
      ]
     },
     "execution_count": 11,
     "metadata": {},
     "output_type": "execute_result"
    }
   ],
   "source": [
    "Asset_Details_With_Firms[Asset_Details_With_Firms['ASSET_MONTH_KEY']=='202209'].groupby('FIRM').sum('USD_MV').sort_values(by='USD_MV', ascending=False)"
   ]
  },
  {
   "cell_type": "code",
   "execution_count": 12,
   "id": "c2e0c8b9",
   "metadata": {},
   "outputs": [],
   "source": [
    "AssDetFirms = Asset_Details_With_Firms\n",
    "AssDetFirms.head()\n",
    "AssDetFirms = pd.merge(Asset_Details_With_Firms, Advisors_Details, left_on='CONTACT_ID', right_on='CONTACT ID', how='left')"
   ]
  },
  {
   "cell_type": "code",
   "execution_count": 13,
   "id": "ddc8ed9a",
   "metadata": {},
   "outputs": [
    {
     "name": "stdout",
     "output_type": "stream",
     "text": [
      "<class 'pandas.core.frame.DataFrame'>\n",
      "RangeIndex: 15548 entries, 0 to 15547\n",
      "Data columns (total 26 columns):\n",
      " #   Column           Non-Null Count  Dtype         \n",
      "---  ------           --------------  -----         \n",
      " 0   CONTACT_ID       15548 non-null  int64         \n",
      " 1   ASSET_MONTH_KEY  15548 non-null  object        \n",
      " 2   USD_MV           15548 non-null  float64       \n",
      " 3   CONTACT ID_x     15548 non-null  int64         \n",
      " 4   FIRM ID_x        15548 non-null  int64         \n",
      " 5   FIRM             15548 non-null  object        \n",
      " 6   CONTACT ID_y     15548 non-null  int64         \n",
      " 7   NICK_NAME        15548 non-null  object        \n",
      " 8   FIRST_NAME       15548 non-null  object        \n",
      " 9   MIDDLE_NAME      112 non-null    object        \n",
      " 10  LAST_NAME        15548 non-null  object        \n",
      " 11  PREFIX           7088 non-null   object        \n",
      " 12  SUFFIX           4344 non-null   object        \n",
      " 13  MOBILE_PHONE     14932 non-null  object        \n",
      " 14  FIRM ID_y        15548 non-null  int64         \n",
      " 15  PRIMARY_EMAIL    14705 non-null  object        \n",
      " 16  UNSUBSCRIBED     14705 non-null  object        \n",
      " 17  STREET_1         15548 non-null  object        \n",
      " 18  CITY             15548 non-null  object        \n",
      " 19  STATE            15548 non-null  object        \n",
      " 20  ZIP              15548 non-null  int64         \n",
      " 21  COUNTRY          15548 non-null  object        \n",
      " 22  SEGMENT          15548 non-null  object        \n",
      " 23  BIRTHDATE        15548 non-null  datetime64[ns]\n",
      " 24  Industry EXP     15548 non-null  int64         \n",
      " 25  Firm EXP         15548 non-null  int64         \n",
      "dtypes: datetime64[ns](1), float64(1), int64(8), object(16)\n",
      "memory usage: 3.1+ MB\n"
     ]
    }
   ],
   "source": [
    "AssDetFirms.info()\n",
    "AssDetFirms = AssDetFirms[['CONTACT_ID', 'ASSET_MONTH_KEY', 'USD_MV', 'FIRM', 'Industry EXP', 'Firm EXP']]"
   ]
  },
  {
   "cell_type": "code",
   "execution_count": 14,
   "id": "3e8d63bf",
   "metadata": {},
   "outputs": [
    {
     "data": {
      "text/html": [
       "<div>\n",
       "<style scoped>\n",
       "    .dataframe tbody tr th:only-of-type {\n",
       "        vertical-align: middle;\n",
       "    }\n",
       "\n",
       "    .dataframe tbody tr th {\n",
       "        vertical-align: top;\n",
       "    }\n",
       "\n",
       "    .dataframe thead th {\n",
       "        text-align: right;\n",
       "    }\n",
       "</style>\n",
       "<table border=\"1\" class=\"dataframe\">\n",
       "  <thead>\n",
       "    <tr style=\"text-align: right;\">\n",
       "      <th></th>\n",
       "      <th>CONTACT_ID</th>\n",
       "      <th>USD_MV</th>\n",
       "      <th>Industry EXP</th>\n",
       "      <th>Firm EXP</th>\n",
       "    </tr>\n",
       "  </thead>\n",
       "  <tbody>\n",
       "    <tr>\n",
       "      <th>CONTACT_ID</th>\n",
       "      <td>1.000000</td>\n",
       "      <td>0.098530</td>\n",
       "      <td>0.012578</td>\n",
       "      <td>0.023689</td>\n",
       "    </tr>\n",
       "    <tr>\n",
       "      <th>USD_MV</th>\n",
       "      <td>0.098530</td>\n",
       "      <td>1.000000</td>\n",
       "      <td>0.007736</td>\n",
       "      <td>0.009611</td>\n",
       "    </tr>\n",
       "    <tr>\n",
       "      <th>Industry EXP</th>\n",
       "      <td>0.012578</td>\n",
       "      <td>0.007736</td>\n",
       "      <td>1.000000</td>\n",
       "      <td>0.605528</td>\n",
       "    </tr>\n",
       "    <tr>\n",
       "      <th>Firm EXP</th>\n",
       "      <td>0.023689</td>\n",
       "      <td>0.009611</td>\n",
       "      <td>0.605528</td>\n",
       "      <td>1.000000</td>\n",
       "    </tr>\n",
       "  </tbody>\n",
       "</table>\n",
       "</div>"
      ],
      "text/plain": [
       "              CONTACT_ID    USD_MV  Industry EXP  Firm EXP\n",
       "CONTACT_ID      1.000000  0.098530      0.012578  0.023689\n",
       "USD_MV          0.098530  1.000000      0.007736  0.009611\n",
       "Industry EXP    0.012578  0.007736      1.000000  0.605528\n",
       "Firm EXP        0.023689  0.009611      0.605528  1.000000"
      ]
     },
     "execution_count": 14,
     "metadata": {},
     "output_type": "execute_result"
    }
   ],
   "source": [
    "AssDetFirms.corr(numeric_only = True)"
   ]
  },
  {
   "cell_type": "markdown",
   "id": "e50f54fa",
   "metadata": {},
   "source": [
    "* UBS is the company with the highest Asset Price."
   ]
  },
  {
   "cell_type": "markdown",
   "id": "e96319ae",
   "metadata": {},
   "source": [
    "# Transaction Details Data Set Exploration"
   ]
  },
  {
   "cell_type": "code",
   "execution_count": 15,
   "id": "b943d765",
   "metadata": {},
   "outputs": [
    {
     "data": {
      "text/html": [
       "<div>\n",
       "<style scoped>\n",
       "    .dataframe tbody tr th:only-of-type {\n",
       "        vertical-align: middle;\n",
       "    }\n",
       "\n",
       "    .dataframe tbody tr th {\n",
       "        vertical-align: top;\n",
       "    }\n",
       "\n",
       "    .dataframe thead th {\n",
       "        text-align: right;\n",
       "    }\n",
       "</style>\n",
       "<table border=\"1\" class=\"dataframe\">\n",
       "  <thead>\n",
       "    <tr style=\"text-align: right;\">\n",
       "      <th></th>\n",
       "      <th>CONTACT_ID</th>\n",
       "      <th>TRADE_DATE_KEY</th>\n",
       "      <th>USD_AMT</th>\n",
       "      <th>TRADE_CLASS_CODE</th>\n",
       "      <th>CONTACT ID</th>\n",
       "      <th>FIRM ID</th>\n",
       "      <th>FIRM</th>\n",
       "    </tr>\n",
       "  </thead>\n",
       "  <tbody>\n",
       "    <tr>\n",
       "      <th>0</th>\n",
       "      <td>1079</td>\n",
       "      <td>20220725</td>\n",
       "      <td>-2.832932e+04</td>\n",
       "      <td>R</td>\n",
       "      <td>1079</td>\n",
       "      <td>10389</td>\n",
       "      <td>Wells Fargo</td>\n",
       "    </tr>\n",
       "    <tr>\n",
       "      <th>1</th>\n",
       "      <td>1715</td>\n",
       "      <td>20211204</td>\n",
       "      <td>1.358365e+05</td>\n",
       "      <td>S</td>\n",
       "      <td>1715</td>\n",
       "      <td>12087</td>\n",
       "      <td>Janney</td>\n",
       "    </tr>\n",
       "    <tr>\n",
       "      <th>2</th>\n",
       "      <td>1866</td>\n",
       "      <td>20210725</td>\n",
       "      <td>1.730403e+05</td>\n",
       "      <td>R</td>\n",
       "      <td>1866</td>\n",
       "      <td>10089</td>\n",
       "      <td>Bofa</td>\n",
       "    </tr>\n",
       "    <tr>\n",
       "      <th>3</th>\n",
       "      <td>1698</td>\n",
       "      <td>20220522</td>\n",
       "      <td>5.311246e+07</td>\n",
       "      <td>S</td>\n",
       "      <td>1698</td>\n",
       "      <td>13980</td>\n",
       "      <td>RBC</td>\n",
       "    </tr>\n",
       "    <tr>\n",
       "      <th>4</th>\n",
       "      <td>1677</td>\n",
       "      <td>20210805</td>\n",
       "      <td>-1.583990e+05</td>\n",
       "      <td>R</td>\n",
       "      <td>1677</td>\n",
       "      <td>10089</td>\n",
       "      <td>Bofa</td>\n",
       "    </tr>\n",
       "  </tbody>\n",
       "</table>\n",
       "</div>"
      ],
      "text/plain": [
       "   CONTACT_ID  TRADE_DATE_KEY       USD_AMT TRADE_CLASS_CODE  CONTACT ID  \\\n",
       "0        1079        20220725 -2.832932e+04                R        1079   \n",
       "1        1715        20211204  1.358365e+05                S        1715   \n",
       "2        1866        20210725  1.730403e+05                R        1866   \n",
       "3        1698        20220522  5.311246e+07                S        1698   \n",
       "4        1677        20210805 -1.583990e+05                R        1677   \n",
       "\n",
       "   FIRM ID         FIRM  \n",
       "0    10389  Wells Fargo  \n",
       "1    12087       Janney  \n",
       "2    10089         Bofa  \n",
       "3    13980          RBC  \n",
       "4    10089         Bofa  "
      ]
     },
     "execution_count": 15,
     "metadata": {},
     "output_type": "execute_result"
    }
   ],
   "source": [
    "# Take the data of a single firm and see the scatter plot between transaction date and transaction value.\n",
    "TransDetFirms = pd.merge(Transaction_Details, Advisors_Firms, left_on='CONTACT_ID', right_on='CONTACT ID', how='left')\n",
    "TransDetFirms.head()"
   ]
  },
  {
   "cell_type": "markdown",
   "id": "b817034d",
   "metadata": {},
   "source": [
    "* The cells that follow take care of those values of transaction amount which is positive for Redemption and negative for sales."
   ]
  },
  {
   "cell_type": "code",
   "execution_count": 16,
   "id": "a2ee554b",
   "metadata": {},
   "outputs": [
    {
     "name": "stdout",
     "output_type": "stream",
     "text": [
      "Sales Transactions with negative amount\n",
      "(1374, 7)\n",
      "Sales Transactions with postive amount\n",
      "(13646, 7)\n",
      "Redemption Transactions with negative amount\n",
      "(12087, 7)\n",
      "Redemption Transactions with positive amount\n",
      "(1476, 7)\n"
     ]
    }
   ],
   "source": [
    "print(\"Sales Transactions with negative amount\")\n",
    "print(TransDetFirms[(TransDetFirms['TRADE_CLASS_CODE']=='S') & (TransDetFirms['USD_AMT']<0)].shape)\n",
    "print(\"Sales Transactions with postive amount\")\n",
    "print(TransDetFirms[(TransDetFirms['TRADE_CLASS_CODE']=='S') & (TransDetFirms['USD_AMT']>0)].shape)\n",
    "print(\"Redemption Transactions with negative amount\")\n",
    "print(TransDetFirms[(TransDetFirms['TRADE_CLASS_CODE']=='R') & (TransDetFirms['USD_AMT']<0)].shape)\n",
    "print(\"Redemption Transactions with positive amount\")\n",
    "print(TransDetFirms[(TransDetFirms['TRADE_CLASS_CODE']=='R') & (TransDetFirms['USD_AMT']>0)].shape)"
   ]
  },
  {
   "cell_type": "code",
   "execution_count": 17,
   "id": "6a773810",
   "metadata": {},
   "outputs": [
    {
     "name": "stdout",
     "output_type": "stream",
     "text": [
      "<class 'pandas.core.frame.DataFrame'>\n",
      "RangeIndex: 28583 entries, 0 to 28582\n",
      "Data columns (total 7 columns):\n",
      " #   Column            Non-Null Count  Dtype  \n",
      "---  ------            --------------  -----  \n",
      " 0   CONTACT_ID        28583 non-null  int64  \n",
      " 1   TRADE_DATE_KEY    28583 non-null  int64  \n",
      " 2   USD_AMT           28583 non-null  float64\n",
      " 3   TRADE_CLASS_CODE  28583 non-null  object \n",
      " 4   CONTACT ID        28583 non-null  int64  \n",
      " 5   FIRM ID           28583 non-null  int64  \n",
      " 6   FIRM              28583 non-null  object \n",
      "dtypes: float64(1), int64(4), object(2)\n",
      "memory usage: 1.5+ MB\n"
     ]
    }
   ],
   "source": [
    "TransDetFirms.info()"
   ]
  },
  {
   "cell_type": "code",
   "execution_count": 18,
   "id": "3d899c3c",
   "metadata": {},
   "outputs": [
    {
     "name": "stdout",
     "output_type": "stream",
     "text": [
      "<class 'pandas.core.frame.DataFrame'>\n",
      "RangeIndex: 28583 entries, 0 to 28582\n",
      "Data columns (total 27 columns):\n",
      " #   Column            Non-Null Count  Dtype         \n",
      "---  ------            --------------  -----         \n",
      " 0   CONTACT_ID        28583 non-null  int64         \n",
      " 1   TRADE_DATE_KEY    28583 non-null  int64         \n",
      " 2   USD_AMT           28583 non-null  float64       \n",
      " 3   TRADE_CLASS_CODE  28583 non-null  object        \n",
      " 4   CONTACT ID_x      28583 non-null  int64         \n",
      " 5   FIRM ID_x         28583 non-null  int64         \n",
      " 6   FIRM              28583 non-null  object        \n",
      " 7   CONTACT ID_y      28583 non-null  int64         \n",
      " 8   NICK_NAME         28583 non-null  object        \n",
      " 9   FIRST_NAME        28583 non-null  object        \n",
      " 10  MIDDLE_NAME       199 non-null    object        \n",
      " 11  LAST_NAME         28583 non-null  object        \n",
      " 12  PREFIX            13022 non-null  object        \n",
      " 13  SUFFIX            7945 non-null   object        \n",
      " 14  MOBILE_PHONE      27466 non-null  object        \n",
      " 15  FIRM ID_y         28583 non-null  int64         \n",
      " 16  PRIMARY_EMAIL     27053 non-null  object        \n",
      " 17  UNSUBSCRIBED      27053 non-null  object        \n",
      " 18  STREET_1          28583 non-null  object        \n",
      " 19  CITY              28583 non-null  object        \n",
      " 20  STATE             28583 non-null  object        \n",
      " 21  ZIP               28583 non-null  int64         \n",
      " 22  COUNTRY           28583 non-null  object        \n",
      " 23  SEGMENT           28583 non-null  object        \n",
      " 24  BIRTHDATE         28583 non-null  datetime64[ns]\n",
      " 25  Industry EXP      28583 non-null  int64         \n",
      " 26  Firm EXP          28583 non-null  int64         \n",
      "dtypes: datetime64[ns](1), float64(1), int64(9), object(16)\n",
      "memory usage: 5.9+ MB\n",
      "<class 'pandas.core.frame.DataFrame'>\n",
      "RangeIndex: 28583 entries, 0 to 28582\n",
      "Data columns (total 8 columns):\n",
      " #   Column            Non-Null Count  Dtype  \n",
      "---  ------            --------------  -----  \n",
      " 0   CONTACT_ID        28583 non-null  int64  \n",
      " 1   TRADE_DATE_KEY    28583 non-null  int64  \n",
      " 2   TRADE_CLASS_CODE  28583 non-null  object \n",
      " 3   USD_AMT           28583 non-null  float64\n",
      " 4   FIRM ID_x         28583 non-null  int64  \n",
      " 5   FIRM              28583 non-null  object \n",
      " 6   Industry EXP      28583 non-null  int64  \n",
      " 7   Firm EXP          28583 non-null  int64  \n",
      "dtypes: float64(1), int64(5), object(2)\n",
      "memory usage: 1.7+ MB\n"
     ]
    }
   ],
   "source": [
    "TransDetFirmsExp = pd.merge(TransDetFirms, Advisors_Details, left_on='CONTACT_ID', right_on='CONTACT ID', how='left')\n",
    "TransDetFirmsExp.info()\n",
    "TransDetFirmsExp = TransDetFirmsExp[['CONTACT_ID', 'TRADE_DATE_KEY', 'TRADE_CLASS_CODE', 'USD_AMT','FIRM ID_x', 'FIRM', 'Industry EXP', 'Firm EXP']]\n",
    "TransDetFirmsExp.info()"
   ]
  },
  {
   "cell_type": "code",
   "execution_count": 19,
   "id": "edcbf471",
   "metadata": {},
   "outputs": [
    {
     "data": {
      "text/html": [
       "<div>\n",
       "<style scoped>\n",
       "    .dataframe tbody tr th:only-of-type {\n",
       "        vertical-align: middle;\n",
       "    }\n",
       "\n",
       "    .dataframe tbody tr th {\n",
       "        vertical-align: top;\n",
       "    }\n",
       "\n",
       "    .dataframe thead th {\n",
       "        text-align: right;\n",
       "    }\n",
       "</style>\n",
       "<table border=\"1\" class=\"dataframe\">\n",
       "  <thead>\n",
       "    <tr style=\"text-align: right;\">\n",
       "      <th></th>\n",
       "      <th>CONTACT_ID</th>\n",
       "      <th>TRADE_DATE_KEY</th>\n",
       "      <th>USD_AMT</th>\n",
       "      <th>FIRM ID_x</th>\n",
       "      <th>Industry EXP</th>\n",
       "      <th>Firm EXP</th>\n",
       "    </tr>\n",
       "  </thead>\n",
       "  <tbody>\n",
       "    <tr>\n",
       "      <th>CONTACT_ID</th>\n",
       "      <td>1.000000</td>\n",
       "      <td>0.014354</td>\n",
       "      <td>0.035547</td>\n",
       "      <td>0.000798</td>\n",
       "      <td>0.012162</td>\n",
       "      <td>0.026711</td>\n",
       "    </tr>\n",
       "    <tr>\n",
       "      <th>TRADE_DATE_KEY</th>\n",
       "      <td>0.014354</td>\n",
       "      <td>1.000000</td>\n",
       "      <td>0.053819</td>\n",
       "      <td>-0.003571</td>\n",
       "      <td>-0.003030</td>\n",
       "      <td>0.000023</td>\n",
       "    </tr>\n",
       "    <tr>\n",
       "      <th>USD_AMT</th>\n",
       "      <td>0.035547</td>\n",
       "      <td>0.053819</td>\n",
       "      <td>1.000000</td>\n",
       "      <td>-0.052908</td>\n",
       "      <td>-0.000459</td>\n",
       "      <td>0.001548</td>\n",
       "    </tr>\n",
       "    <tr>\n",
       "      <th>FIRM ID_x</th>\n",
       "      <td>0.000798</td>\n",
       "      <td>-0.003571</td>\n",
       "      <td>-0.052908</td>\n",
       "      <td>1.000000</td>\n",
       "      <td>-0.049576</td>\n",
       "      <td>-0.023113</td>\n",
       "    </tr>\n",
       "    <tr>\n",
       "      <th>Industry EXP</th>\n",
       "      <td>0.012162</td>\n",
       "      <td>-0.003030</td>\n",
       "      <td>-0.000459</td>\n",
       "      <td>-0.049576</td>\n",
       "      <td>1.000000</td>\n",
       "      <td>0.606557</td>\n",
       "    </tr>\n",
       "    <tr>\n",
       "      <th>Firm EXP</th>\n",
       "      <td>0.026711</td>\n",
       "      <td>0.000023</td>\n",
       "      <td>0.001548</td>\n",
       "      <td>-0.023113</td>\n",
       "      <td>0.606557</td>\n",
       "      <td>1.000000</td>\n",
       "    </tr>\n",
       "  </tbody>\n",
       "</table>\n",
       "</div>"
      ],
      "text/plain": [
       "                CONTACT_ID  TRADE_DATE_KEY   USD_AMT  FIRM ID_x  Industry EXP  \\\n",
       "CONTACT_ID        1.000000        0.014354  0.035547   0.000798      0.012162   \n",
       "TRADE_DATE_KEY    0.014354        1.000000  0.053819  -0.003571     -0.003030   \n",
       "USD_AMT           0.035547        0.053819  1.000000  -0.052908     -0.000459   \n",
       "FIRM ID_x         0.000798       -0.003571 -0.052908   1.000000     -0.049576   \n",
       "Industry EXP      0.012162       -0.003030 -0.000459  -0.049576      1.000000   \n",
       "Firm EXP          0.026711        0.000023  0.001548  -0.023113      0.606557   \n",
       "\n",
       "                Firm EXP  \n",
       "CONTACT_ID      0.026711  \n",
       "TRADE_DATE_KEY  0.000023  \n",
       "USD_AMT         0.001548  \n",
       "FIRM ID_x      -0.023113  \n",
       "Industry EXP    0.606557  \n",
       "Firm EXP        1.000000  "
      ]
     },
     "execution_count": 19,
     "metadata": {},
     "output_type": "execute_result"
    }
   ],
   "source": [
    "TransDetFirmsExp.corr(numeric_only=True)"
   ]
  },
  {
   "cell_type": "code",
   "execution_count": 20,
   "id": "075154d2",
   "metadata": {},
   "outputs": [
    {
     "data": {
      "text/plain": [
       "FIRM\n",
       "Bofa                1.247161e+08\n",
       "Edward Jones        7.424975e+08\n",
       "JP Morgan           1.800020e+09\n",
       "Janney              3.430382e+08\n",
       "Morgan Stanley      7.796268e+08\n",
       "RBC                 9.111623e+08\n",
       "Raymond James       8.866568e+08\n",
       "Stark Enterprise    1.181785e+09\n",
       "UBS                 2.216182e+09\n",
       "Wakanda Ltd         2.270649e+08\n",
       "Wayne Enterprise    1.470540e+08\n",
       "Wells Fargo         2.264083e+09\n",
       "Name: USD_AMT, dtype: float64"
      ]
     },
     "execution_count": 20,
     "metadata": {},
     "output_type": "execute_result"
    }
   ],
   "source": [
    "TransDetFirms.groupby('FIRM').sum('USD_AMT')['USD_AMT']"
   ]
  },
  {
   "cell_type": "markdown",
   "id": "6ce442bf",
   "metadata": {},
   "source": [
    "### Insight 4: All Companies have positive cash inflows. The highest Cash Inflow is for Wells Fargo. "
   ]
  },
  {
   "cell_type": "code",
   "execution_count": 21,
   "id": "b86ade6e",
   "metadata": {},
   "outputs": [
    {
     "data": {
      "text/html": [
       "<div>\n",
       "<style scoped>\n",
       "    .dataframe tbody tr th:only-of-type {\n",
       "        vertical-align: middle;\n",
       "    }\n",
       "\n",
       "    .dataframe tbody tr th {\n",
       "        vertical-align: top;\n",
       "    }\n",
       "\n",
       "    .dataframe thead th {\n",
       "        text-align: right;\n",
       "    }\n",
       "</style>\n",
       "<table border=\"1\" class=\"dataframe\">\n",
       "  <thead>\n",
       "    <tr style=\"text-align: right;\">\n",
       "      <th></th>\n",
       "      <th>CONTACT_ID</th>\n",
       "      <th>TRADE_DATE_KEY</th>\n",
       "      <th>USD_AMT</th>\n",
       "      <th>CONTACT ID</th>\n",
       "      <th>FIRM ID</th>\n",
       "    </tr>\n",
       "    <tr>\n",
       "      <th>FIRM</th>\n",
       "      <th></th>\n",
       "      <th></th>\n",
       "      <th></th>\n",
       "      <th></th>\n",
       "      <th></th>\n",
       "    </tr>\n",
       "  </thead>\n",
       "  <tbody>\n",
       "    <tr>\n",
       "      <th>Wells Fargo</th>\n",
       "      <td>4311492</td>\n",
       "      <td>58869465240</td>\n",
       "      <td>2.264083e+09</td>\n",
       "      <td>4311492</td>\n",
       "      <td>30252768</td>\n",
       "    </tr>\n",
       "    <tr>\n",
       "      <th>UBS</th>\n",
       "      <td>5528950</td>\n",
       "      <td>73566421195</td>\n",
       "      <td>2.216182e+09</td>\n",
       "      <td>5528950</td>\n",
       "      <td>38857242</td>\n",
       "    </tr>\n",
       "    <tr>\n",
       "      <th>JP Morgan</th>\n",
       "      <td>4596464</td>\n",
       "      <td>63053200631</td>\n",
       "      <td>1.800020e+09</td>\n",
       "      <td>4596464</td>\n",
       "      <td>33965910</td>\n",
       "    </tr>\n",
       "    <tr>\n",
       "      <th>Stark Enterprise</th>\n",
       "      <td>103257</td>\n",
       "      <td>1233214735</td>\n",
       "      <td>1.181785e+09</td>\n",
       "      <td>103257</td>\n",
       "      <td>183000</td>\n",
       "    </tr>\n",
       "    <tr>\n",
       "      <th>RBC</th>\n",
       "      <td>4893085</td>\n",
       "      <td>64711359937</td>\n",
       "      <td>9.111623e+08</td>\n",
       "      <td>4893085</td>\n",
       "      <td>44749980</td>\n",
       "    </tr>\n",
       "    <tr>\n",
       "      <th>Raymond James</th>\n",
       "      <td>5310270</td>\n",
       "      <td>71200424830</td>\n",
       "      <td>8.866568e+08</td>\n",
       "      <td>5310270</td>\n",
       "      <td>36804900</td>\n",
       "    </tr>\n",
       "    <tr>\n",
       "      <th>Morgan Stanley</th>\n",
       "      <td>4679314</td>\n",
       "      <td>63578969475</td>\n",
       "      <td>7.796268e+08</td>\n",
       "      <td>4679314</td>\n",
       "      <td>31906025</td>\n",
       "    </tr>\n",
       "    <tr>\n",
       "      <th>Edward Jones</th>\n",
       "      <td>4644543</td>\n",
       "      <td>60324533774</td>\n",
       "      <td>7.424975e+08</td>\n",
       "      <td>4644543</td>\n",
       "      <td>29974280</td>\n",
       "    </tr>\n",
       "    <tr>\n",
       "      <th>Janney</th>\n",
       "      <td>4398848</td>\n",
       "      <td>59212324589</td>\n",
       "      <td>3.430382e+08</td>\n",
       "      <td>4398848</td>\n",
       "      <td>35402823</td>\n",
       "    </tr>\n",
       "    <tr>\n",
       "      <th>Wakanda Ltd</th>\n",
       "      <td>57636</td>\n",
       "      <td>727795382</td>\n",
       "      <td>2.270649e+08</td>\n",
       "      <td>57636</td>\n",
       "      <td>72792</td>\n",
       "    </tr>\n",
       "    <tr>\n",
       "      <th>Wayne Enterprise</th>\n",
       "      <td>47532</td>\n",
       "      <td>687363554</td>\n",
       "      <td>1.470540e+08</td>\n",
       "      <td>47532</td>\n",
       "      <td>68612</td>\n",
       "    </tr>\n",
       "    <tr>\n",
       "      <th>Bofa</th>\n",
       "      <td>4578650</td>\n",
       "      <td>60667676774</td>\n",
       "      <td>1.247161e+08</td>\n",
       "      <td>4578650</td>\n",
       "      <td>30277089</td>\n",
       "    </tr>\n",
       "  </tbody>\n",
       "</table>\n",
       "</div>"
      ],
      "text/plain": [
       "                  CONTACT_ID  TRADE_DATE_KEY       USD_AMT  CONTACT ID  \\\n",
       "FIRM                                                                     \n",
       "Wells Fargo          4311492     58869465240  2.264083e+09     4311492   \n",
       "UBS                  5528950     73566421195  2.216182e+09     5528950   \n",
       "JP Morgan            4596464     63053200631  1.800020e+09     4596464   \n",
       "Stark Enterprise      103257      1233214735  1.181785e+09      103257   \n",
       "RBC                  4893085     64711359937  9.111623e+08     4893085   \n",
       "Raymond James        5310270     71200424830  8.866568e+08     5310270   \n",
       "Morgan Stanley       4679314     63578969475  7.796268e+08     4679314   \n",
       "Edward Jones         4644543     60324533774  7.424975e+08     4644543   \n",
       "Janney               4398848     59212324589  3.430382e+08     4398848   \n",
       "Wakanda Ltd            57636       727795382  2.270649e+08       57636   \n",
       "Wayne Enterprise       47532       687363554  1.470540e+08       47532   \n",
       "Bofa                 4578650     60667676774  1.247161e+08     4578650   \n",
       "\n",
       "                   FIRM ID  \n",
       "FIRM                        \n",
       "Wells Fargo       30252768  \n",
       "UBS               38857242  \n",
       "JP Morgan         33965910  \n",
       "Stark Enterprise    183000  \n",
       "RBC               44749980  \n",
       "Raymond James     36804900  \n",
       "Morgan Stanley    31906025  \n",
       "Edward Jones      29974280  \n",
       "Janney            35402823  \n",
       "Wakanda Ltd          72792  \n",
       "Wayne Enterprise     68612  \n",
       "Bofa              30277089  "
      ]
     },
     "execution_count": 21,
     "metadata": {},
     "output_type": "execute_result"
    }
   ],
   "source": [
    "TransDetFirms.groupby(['FIRM']).sum('USD_AMT').sort_values(\"USD_AMT\", ascending=False)"
   ]
  },
  {
   "cell_type": "markdown",
   "id": "132cf2e1",
   "metadata": {},
   "source": [
    "From the above result we see that all the companies have \"Positive inflow of Cash\" overall. This is a good sign. Wells Fargo has the highest cash inflow"
   ]
  },
  {
   "cell_type": "code",
   "execution_count": 22,
   "id": "8fd244ae",
   "metadata": {},
   "outputs": [
    {
     "data": {
      "image/png": "[encoded data removed]",
      "text/plain": [
       "<Figure size 600x1000 with 1 Axes>"
      ]
     },
     "metadata": {},
     "output_type": "display_data"
    }
   ],
   "source": [
    "# Histogram for USD_AMT in TransDetFirms\n",
    "plt.figure(figsize=(6,10), dpi=100)\n",
    "sns.histplot(data=TransDetFirms, x='USD_AMT', bins=10000, kde=True)\n",
    "plt.xlim(-1e+6, 1e+6)\n",
    "plt.xticks(fontsize='xx-large', rotation = 270)\n",
    "plt.ylim(0,16000)\n",
    "plt.yticks(fontsize='xx-large')\n",
    "plt.show()"
   ]
  },
  {
   "cell_type": "markdown",
   "id": "a8702dcd",
   "metadata": {},
   "source": [
    "* Though the maximum value of \"USD_AMT\" as we shall see later is way going up till 1e+9, significant number of transactions are in a smaller belt."
   ]
  },
  {
   "cell_type": "markdown",
   "id": "b3c46a33",
   "metadata": {},
   "source": [
    "### Insight 5: The Histogram for USD_AMT shows how most of the Transaction Amount values are in a very short range.\n",
    "* Looking at the first five values of Transaction_Details Dataset, the values were too high to happen in a single transaction. But they were negligible. Most of the values are actually in a practical range."
   ]
  },
  {
   "cell_type": "code",
   "execution_count": 49,
   "id": "633f810e",
   "metadata": {},
   "outputs": [
    {
     "data": {
      "text/plain": [
       "FIRM\n",
       "UBS                 3639\n",
       "Raymond James       3522\n",
       "RBC                 3201\n",
       "Morgan Stanley      3145\n",
       "JP Morgan           3119\n",
       "Bofa                3001\n",
       "Edward Jones        2984\n",
       "Janney              2929\n",
       "Wells Fargo         2912\n",
       "Stark Enterprise      61\n",
       "Wakanda Ltd           36\n",
       "Wayne Enterprise      34\n",
       "Name: count, dtype: int64"
      ]
     },
     "execution_count": 49,
     "metadata": {},
     "output_type": "execute_result"
    }
   ],
   "source": [
    "TransDetFirms['FIRM'].value_counts()"
   ]
  },
  {
   "cell_type": "code",
   "execution_count": 50,
   "id": "18560e0d",
   "metadata": {},
   "outputs": [
    {
     "data": {
      "text/html": [
       "<div>\n",
       "<style scoped>\n",
       "    .dataframe tbody tr th:only-of-type {\n",
       "        vertical-align: middle;\n",
       "    }\n",
       "\n",
       "    .dataframe tbody tr th {\n",
       "        vertical-align: top;\n",
       "    }\n",
       "\n",
       "    .dataframe thead th {\n",
       "        text-align: right;\n",
       "    }\n",
       "</style>\n",
       "<table border=\"1\" class=\"dataframe\">\n",
       "  <thead>\n",
       "    <tr style=\"text-align: right;\">\n",
       "      <th></th>\n",
       "      <th>CONTACT_ID</th>\n",
       "      <th>TRADE_DATE_KEY</th>\n",
       "      <th>USD_AMT</th>\n",
       "      <th>TRADE_CLASS_CODE</th>\n",
       "      <th>CONTACT ID</th>\n",
       "      <th>FIRM ID</th>\n",
       "      <th>FIRM</th>\n",
       "    </tr>\n",
       "  </thead>\n",
       "  <tbody>\n",
       "    <tr>\n",
       "      <th>755</th>\n",
       "      <td>1398</td>\n",
       "      <td>20220213</td>\n",
       "      <td>-1.368044e+06</td>\n",
       "      <td>R</td>\n",
       "      <td>1398</td>\n",
       "      <td>2018</td>\n",
       "      <td>Wayne Enterprise</td>\n",
       "    </tr>\n",
       "    <tr>\n",
       "      <th>1390</th>\n",
       "      <td>1398</td>\n",
       "      <td>20220325</td>\n",
       "      <td>8.481875e+05</td>\n",
       "      <td>S</td>\n",
       "      <td>1398</td>\n",
       "      <td>2018</td>\n",
       "      <td>Wayne Enterprise</td>\n",
       "    </tr>\n",
       "    <tr>\n",
       "      <th>1532</th>\n",
       "      <td>1398</td>\n",
       "      <td>20211006</td>\n",
       "      <td>7.481653e+05</td>\n",
       "      <td>S</td>\n",
       "      <td>1398</td>\n",
       "      <td>2018</td>\n",
       "      <td>Wayne Enterprise</td>\n",
       "    </tr>\n",
       "    <tr>\n",
       "      <th>2342</th>\n",
       "      <td>1398</td>\n",
       "      <td>20220528</td>\n",
       "      <td>2.139140e+07</td>\n",
       "      <td>S</td>\n",
       "      <td>1398</td>\n",
       "      <td>2018</td>\n",
       "      <td>Wayne Enterprise</td>\n",
       "    </tr>\n",
       "    <tr>\n",
       "      <th>2865</th>\n",
       "      <td>1398</td>\n",
       "      <td>20220726</td>\n",
       "      <td>-3.040542e+07</td>\n",
       "      <td>R</td>\n",
       "      <td>1398</td>\n",
       "      <td>2018</td>\n",
       "      <td>Wayne Enterprise</td>\n",
       "    </tr>\n",
       "    <tr>\n",
       "      <th>3181</th>\n",
       "      <td>1398</td>\n",
       "      <td>20220916</td>\n",
       "      <td>-1.504688e+07</td>\n",
       "      <td>R</td>\n",
       "      <td>1398</td>\n",
       "      <td>2018</td>\n",
       "      <td>Wayne Enterprise</td>\n",
       "    </tr>\n",
       "    <tr>\n",
       "      <th>4063</th>\n",
       "      <td>1398</td>\n",
       "      <td>20220425</td>\n",
       "      <td>-2.353720e+06</td>\n",
       "      <td>R</td>\n",
       "      <td>1398</td>\n",
       "      <td>2018</td>\n",
       "      <td>Wayne Enterprise</td>\n",
       "    </tr>\n",
       "    <tr>\n",
       "      <th>4823</th>\n",
       "      <td>1398</td>\n",
       "      <td>20211130</td>\n",
       "      <td>1.175980e+06</td>\n",
       "      <td>S</td>\n",
       "      <td>1398</td>\n",
       "      <td>2018</td>\n",
       "      <td>Wayne Enterprise</td>\n",
       "    </tr>\n",
       "    <tr>\n",
       "      <th>5158</th>\n",
       "      <td>1398</td>\n",
       "      <td>20210721</td>\n",
       "      <td>4.471918e+05</td>\n",
       "      <td>R</td>\n",
       "      <td>1398</td>\n",
       "      <td>2018</td>\n",
       "      <td>Wayne Enterprise</td>\n",
       "    </tr>\n",
       "    <tr>\n",
       "      <th>5477</th>\n",
       "      <td>1398</td>\n",
       "      <td>20220813</td>\n",
       "      <td>6.328127e+07</td>\n",
       "      <td>S</td>\n",
       "      <td>1398</td>\n",
       "      <td>2018</td>\n",
       "      <td>Wayne Enterprise</td>\n",
       "    </tr>\n",
       "    <tr>\n",
       "      <th>6424</th>\n",
       "      <td>1398</td>\n",
       "      <td>20211215</td>\n",
       "      <td>-2.933919e+05</td>\n",
       "      <td>R</td>\n",
       "      <td>1398</td>\n",
       "      <td>2018</td>\n",
       "      <td>Wayne Enterprise</td>\n",
       "    </tr>\n",
       "    <tr>\n",
       "      <th>6775</th>\n",
       "      <td>1398</td>\n",
       "      <td>20210708</td>\n",
       "      <td>-8.563248e+04</td>\n",
       "      <td>S</td>\n",
       "      <td>1398</td>\n",
       "      <td>2018</td>\n",
       "      <td>Wayne Enterprise</td>\n",
       "    </tr>\n",
       "    <tr>\n",
       "      <th>7858</th>\n",
       "      <td>1398</td>\n",
       "      <td>20210911</td>\n",
       "      <td>5.214485e+05</td>\n",
       "      <td>S</td>\n",
       "      <td>1398</td>\n",
       "      <td>2018</td>\n",
       "      <td>Wayne Enterprise</td>\n",
       "    </tr>\n",
       "    <tr>\n",
       "      <th>8490</th>\n",
       "      <td>1398</td>\n",
       "      <td>20220429</td>\n",
       "      <td>7.845735e+06</td>\n",
       "      <td>S</td>\n",
       "      <td>1398</td>\n",
       "      <td>2018</td>\n",
       "      <td>Wayne Enterprise</td>\n",
       "    </tr>\n",
       "    <tr>\n",
       "      <th>11409</th>\n",
       "      <td>1398</td>\n",
       "      <td>20220914</td>\n",
       "      <td>3.460783e+07</td>\n",
       "      <td>S</td>\n",
       "      <td>1398</td>\n",
       "      <td>2018</td>\n",
       "      <td>Wayne Enterprise</td>\n",
       "    </tr>\n",
       "    <tr>\n",
       "      <th>11760</th>\n",
       "      <td>1398</td>\n",
       "      <td>20220511</td>\n",
       "      <td>1.304353e+07</td>\n",
       "      <td>S</td>\n",
       "      <td>1398</td>\n",
       "      <td>2018</td>\n",
       "      <td>Wayne Enterprise</td>\n",
       "    </tr>\n",
       "    <tr>\n",
       "      <th>12918</th>\n",
       "      <td>1398</td>\n",
       "      <td>20220727</td>\n",
       "      <td>1.646960e+07</td>\n",
       "      <td>S</td>\n",
       "      <td>1398</td>\n",
       "      <td>2018</td>\n",
       "      <td>Wayne Enterprise</td>\n",
       "    </tr>\n",
       "    <tr>\n",
       "      <th>13239</th>\n",
       "      <td>1398</td>\n",
       "      <td>20220111</td>\n",
       "      <td>4.275139e+06</td>\n",
       "      <td>S</td>\n",
       "      <td>1398</td>\n",
       "      <td>2018</td>\n",
       "      <td>Wayne Enterprise</td>\n",
       "    </tr>\n",
       "    <tr>\n",
       "      <th>14327</th>\n",
       "      <td>1398</td>\n",
       "      <td>20211210</td>\n",
       "      <td>2.221396e+06</td>\n",
       "      <td>S</td>\n",
       "      <td>1398</td>\n",
       "      <td>2018</td>\n",
       "      <td>Wayne Enterprise</td>\n",
       "    </tr>\n",
       "    <tr>\n",
       "      <th>17365</th>\n",
       "      <td>1398</td>\n",
       "      <td>20210710</td>\n",
       "      <td>-4.281624e+04</td>\n",
       "      <td>S</td>\n",
       "      <td>1398</td>\n",
       "      <td>2018</td>\n",
       "      <td>Wayne Enterprise</td>\n",
       "    </tr>\n",
       "    <tr>\n",
       "      <th>18611</th>\n",
       "      <td>1398</td>\n",
       "      <td>20220211</td>\n",
       "      <td>1.117236e+07</td>\n",
       "      <td>S</td>\n",
       "      <td>1398</td>\n",
       "      <td>2018</td>\n",
       "      <td>Wayne Enterprise</td>\n",
       "    </tr>\n",
       "    <tr>\n",
       "      <th>18900</th>\n",
       "      <td>1398</td>\n",
       "      <td>20210725</td>\n",
       "      <td>-9.038984e+04</td>\n",
       "      <td>S</td>\n",
       "      <td>1398</td>\n",
       "      <td>2018</td>\n",
       "      <td>Wayne Enterprise</td>\n",
       "    </tr>\n",
       "    <tr>\n",
       "      <th>18911</th>\n",
       "      <td>1398</td>\n",
       "      <td>20220624</td>\n",
       "      <td>5.260196e+07</td>\n",
       "      <td>S</td>\n",
       "      <td>1398</td>\n",
       "      <td>2018</td>\n",
       "      <td>Wayne Enterprise</td>\n",
       "    </tr>\n",
       "    <tr>\n",
       "      <th>19956</th>\n",
       "      <td>1398</td>\n",
       "      <td>20220316</td>\n",
       "      <td>1.484328e+07</td>\n",
       "      <td>S</td>\n",
       "      <td>1398</td>\n",
       "      <td>2018</td>\n",
       "      <td>Wayne Enterprise</td>\n",
       "    </tr>\n",
       "    <tr>\n",
       "      <th>20491</th>\n",
       "      <td>1398</td>\n",
       "      <td>20220722</td>\n",
       "      <td>2.787163e+07</td>\n",
       "      <td>S</td>\n",
       "      <td>1398</td>\n",
       "      <td>2018</td>\n",
       "      <td>Wayne Enterprise</td>\n",
       "    </tr>\n",
       "    <tr>\n",
       "      <th>21141</th>\n",
       "      <td>1398</td>\n",
       "      <td>20210906</td>\n",
       "      <td>1.562374e+05</td>\n",
       "      <td>S</td>\n",
       "      <td>1398</td>\n",
       "      <td>2018</td>\n",
       "      <td>Wayne Enterprise</td>\n",
       "    </tr>\n",
       "    <tr>\n",
       "      <th>22244</th>\n",
       "      <td>1398</td>\n",
       "      <td>20211219</td>\n",
       "      <td>1.005915e+06</td>\n",
       "      <td>S</td>\n",
       "      <td>1398</td>\n",
       "      <td>2018</td>\n",
       "      <td>Wayne Enterprise</td>\n",
       "    </tr>\n",
       "    <tr>\n",
       "      <th>22388</th>\n",
       "      <td>1398</td>\n",
       "      <td>20210804</td>\n",
       "      <td>-7.040893e+04</td>\n",
       "      <td>R</td>\n",
       "      <td>1398</td>\n",
       "      <td>2018</td>\n",
       "      <td>Wayne Enterprise</td>\n",
       "    </tr>\n",
       "    <tr>\n",
       "      <th>22511</th>\n",
       "      <td>1398</td>\n",
       "      <td>20220813</td>\n",
       "      <td>-7.593753e+07</td>\n",
       "      <td>R</td>\n",
       "      <td>1398</td>\n",
       "      <td>2018</td>\n",
       "      <td>Wayne Enterprise</td>\n",
       "    </tr>\n",
       "    <tr>\n",
       "      <th>23384</th>\n",
       "      <td>1398</td>\n",
       "      <td>20220417</td>\n",
       "      <td>7.453448e+06</td>\n",
       "      <td>S</td>\n",
       "      <td>1398</td>\n",
       "      <td>2018</td>\n",
       "      <td>Wayne Enterprise</td>\n",
       "    </tr>\n",
       "    <tr>\n",
       "      <th>25583</th>\n",
       "      <td>1398</td>\n",
       "      <td>20220319</td>\n",
       "      <td>2.332516e+06</td>\n",
       "      <td>S</td>\n",
       "      <td>1398</td>\n",
       "      <td>2018</td>\n",
       "      <td>Wayne Enterprise</td>\n",
       "    </tr>\n",
       "    <tr>\n",
       "      <th>26269</th>\n",
       "      <td>1398</td>\n",
       "      <td>20220512</td>\n",
       "      <td>-1.252179e+07</td>\n",
       "      <td>R</td>\n",
       "      <td>1398</td>\n",
       "      <td>2018</td>\n",
       "      <td>Wayne Enterprise</td>\n",
       "    </tr>\n",
       "    <tr>\n",
       "      <th>27396</th>\n",
       "      <td>1398</td>\n",
       "      <td>20210806</td>\n",
       "      <td>5.984759e+05</td>\n",
       "      <td>S</td>\n",
       "      <td>1398</td>\n",
       "      <td>2018</td>\n",
       "      <td>Wayne Enterprise</td>\n",
       "    </tr>\n",
       "    <tr>\n",
       "      <th>27782</th>\n",
       "      <td>1398</td>\n",
       "      <td>20210911</td>\n",
       "      <td>3.573253e+05</td>\n",
       "      <td>S</td>\n",
       "      <td>1398</td>\n",
       "      <td>2018</td>\n",
       "      <td>Wayne Enterprise</td>\n",
       "    </tr>\n",
       "  </tbody>\n",
       "</table>\n",
       "</div>"
      ],
      "text/plain": [
       "       CONTACT_ID  TRADE_DATE_KEY       USD_AMT TRADE_CLASS_CODE  CONTACT ID  \\\n",
       "755          1398        20220213 -1.368044e+06                R        1398   \n",
       "1390         1398        20220325  8.481875e+05                S        1398   \n",
       "1532         1398        20211006  7.481653e+05                S        1398   \n",
       "2342         1398        20220528  2.139140e+07                S        1398   \n",
       "2865         1398        20220726 -3.040542e+07                R        1398   \n",
       "3181         1398        20220916 -1.504688e+07                R        1398   \n",
       "4063         1398        20220425 -2.353720e+06                R        1398   \n",
       "4823         1398        20211130  1.175980e+06                S        1398   \n",
       "5158         1398        20210721  4.471918e+05                R        1398   \n",
       "5477         1398        20220813  6.328127e+07                S        1398   \n",
       "6424         1398        20211215 -2.933919e+05                R        1398   \n",
       "6775         1398        20210708 -8.563248e+04                S        1398   \n",
       "7858         1398        20210911  5.214485e+05                S        1398   \n",
       "8490         1398        20220429  7.845735e+06                S        1398   \n",
       "11409        1398        20220914  3.460783e+07                S        1398   \n",
       "11760        1398        20220511  1.304353e+07                S        1398   \n",
       "12918        1398        20220727  1.646960e+07                S        1398   \n",
       "13239        1398        20220111  4.275139e+06                S        1398   \n",
       "14327        1398        20211210  2.221396e+06                S        1398   \n",
       "17365        1398        20210710 -4.281624e+04                S        1398   \n",
       "18611        1398        20220211  1.117236e+07                S        1398   \n",
       "18900        1398        20210725 -9.038984e+04                S        1398   \n",
       "18911        1398        20220624  5.260196e+07                S        1398   \n",
       "19956        1398        20220316  1.484328e+07                S        1398   \n",
       "20491        1398        20220722  2.787163e+07                S        1398   \n",
       "21141        1398        20210906  1.562374e+05                S        1398   \n",
       "22244        1398        20211219  1.005915e+06                S        1398   \n",
       "22388        1398        20210804 -7.040893e+04                R        1398   \n",
       "22511        1398        20220813 -7.593753e+07                R        1398   \n",
       "23384        1398        20220417  7.453448e+06                S        1398   \n",
       "25583        1398        20220319  2.332516e+06                S        1398   \n",
       "26269        1398        20220512 -1.252179e+07                R        1398   \n",
       "27396        1398        20210806  5.984759e+05                S        1398   \n",
       "27782        1398        20210911  3.573253e+05                S        1398   \n",
       "\n",
       "       FIRM ID              FIRM  \n",
       "755       2018  Wayne Enterprise  \n",
       "1390      2018  Wayne Enterprise  \n",
       "1532      2018  Wayne Enterprise  \n",
       "2342      2018  Wayne Enterprise  \n",
       "2865      2018  Wayne Enterprise  \n",
       "3181      2018  Wayne Enterprise  \n",
       "4063      2018  Wayne Enterprise  \n",
       "4823      2018  Wayne Enterprise  \n",
       "5158      2018  Wayne Enterprise  \n",
       "5477      2018  Wayne Enterprise  \n",
       "6424      2018  Wayne Enterprise  \n",
       "6775      2018  Wayne Enterprise  \n",
       "7858      2018  Wayne Enterprise  \n",
       "8490      2018  Wayne Enterprise  \n",
       "11409     2018  Wayne Enterprise  \n",
       "11760     2018  Wayne Enterprise  \n",
       "12918     2018  Wayne Enterprise  \n",
       "13239     2018  Wayne Enterprise  \n",
       "14327     2018  Wayne Enterprise  \n",
       "17365     2018  Wayne Enterprise  \n",
       "18611     2018  Wayne Enterprise  \n",
       "18900     2018  Wayne Enterprise  \n",
       "18911     2018  Wayne Enterprise  \n",
       "19956     2018  Wayne Enterprise  \n",
       "20491     2018  Wayne Enterprise  \n",
       "21141     2018  Wayne Enterprise  \n",
       "22244     2018  Wayne Enterprise  \n",
       "22388     2018  Wayne Enterprise  \n",
       "22511     2018  Wayne Enterprise  \n",
       "23384     2018  Wayne Enterprise  \n",
       "25583     2018  Wayne Enterprise  \n",
       "26269     2018  Wayne Enterprise  \n",
       "27396     2018  Wayne Enterprise  \n",
       "27782     2018  Wayne Enterprise  "
      ]
     },
     "execution_count": 50,
     "metadata": {},
     "output_type": "execute_result"
    }
   ],
   "source": [
    "TransDetFirms[TransDetFirms['FIRM']=='Wayne Enterprise']"
   ]
  },
  {
   "cell_type": "markdown",
   "id": "f1aca052",
   "metadata": {},
   "source": [
    "### Insight 6: Above result shows the number of transactions of firms arranged in descending order."
   ]
  },
  {
   "cell_type": "markdown",
   "id": "002cd4f7",
   "metadata": {},
   "source": [
    "Some Statistics of Transaction Amount:<br>\n",
    "We Made two box plots to analyze better - one for positive values of 'USD_AMT' and the other for negative values of 'USD_AMT' <br>\n",
    "Also included are the maximum, minimum, median and mean values of the above two parts of the data to get an idea of the size of the transaction amount values."
   ]
  },
  {
   "cell_type": "code",
   "execution_count": 25,
   "id": "a5d11eb3",
   "metadata": {
    "scrolled": true
   },
   "outputs": [
    {
     "name": "stdout",
     "output_type": "stream",
     "text": [
      "Min: 1.7053025658242404e-13\n",
      "Max: 287652790.587015\n",
      "Median: 18540.644635089688\n",
      "Mean 1244105.0901618202\n"
     ]
    },
    {
     "data": {
      "image/png": "[encoded data removed]",
      "text/plain": [
       "<Figure size 600x600 with 1 Axes>"
      ]
     },
     "metadata": {},
     "output_type": "display_data"
    }
   ],
   "source": [
    "# Postive values of transaction amount\n",
    "print(\"Min:\", TransDetFirms[TransDetFirms['USD_AMT']>0]['USD_AMT'].min())\n",
    "print(\"Max:\", TransDetFirms[TransDetFirms['USD_AMT']>0]['USD_AMT'].max())\n",
    "print(\"Median:\", TransDetFirms[TransDetFirms['USD_AMT']>0]['USD_AMT'].median())\n",
    "print(\"Mean\", TransDetFirms[TransDetFirms['USD_AMT']>0]['USD_AMT'].mean())\n",
    "\n",
    "plt.figure(figsize=(6,6), dpi=100)\n",
    "sns.boxplot(data=TransDetFirms[TransDetFirms['USD_AMT']>0], x='USD_AMT', y='FIRM')\n",
    "plt.xlim(-1e+3,5e+5)\n",
    "plt.ylim(-2,12)\n",
    "plt.show()"
   ]
  },
  {
   "cell_type": "code",
   "execution_count": 30,
   "id": "8e84cdfc",
   "metadata": {
    "scrolled": true
   },
   "outputs": [
    {
     "name": "stdout",
     "output_type": "stream",
     "text": [
      "Min: -158403704.63882226\n",
      "Max: -1.3358203432289883e-12\n",
      "Median: -4952.710923245569\n",
      "Mean -534096.2503870082\n"
     ]
    },
    {
     "data": {
      "image/png": "[encoded data removed]",
      "text/plain": [
       "<Figure size 600x600 with 1 Axes>"
      ]
     },
     "metadata": {},
     "output_type": "display_data"
    }
   ],
   "source": [
    "# Negative Values of transaction amount\n",
    "print(\"Min:\", TransDetFirms[TransDetFirms['USD_AMT']<0]['USD_AMT'].min())\n",
    "print(\"Max:\", TransDetFirms[TransDetFirms['USD_AMT']<0]['USD_AMT'].max())\n",
    "print(\"Median:\", TransDetFirms[TransDetFirms['USD_AMT']<0]['USD_AMT'].median())\n",
    "print(\"Mean\", TransDetFirms[TransDetFirms['USD_AMT']<0]['USD_AMT'].mean())\n",
    "\n",
    "plt.figure(figsize=(6,6), dpi=100)\n",
    "sns.boxplot(data=TransDetFirms[TransDetFirms['USD_AMT']<0], x='USD_AMT', y='FIRM')\n",
    "plt.xlim(-2e+5,1e+3)\n",
    "plt.ylim(-2,12)\n",
    "plt.show()"
   ]
  },
  {
   "cell_type": "markdown",
   "id": "5c7662bd",
   "metadata": {},
   "source": [
    "### Insight 7: The above two box plots show three unusually high investing companies Wakanda Ltd, Stark Enterprise, Wayne Enterprise. These companies deal with huge money. But their overall asset price is not high. This is because their inflow is huge and their redemption is also big. The difference matters when pricing the assets."
   ]
  },
  {
   "cell_type": "markdown",
   "id": "29a2a02f",
   "metadata": {},
   "source": [
    "# <u>Exploring the Activty_Details Dataset:</u>"
   ]
  },
  {
   "cell_type": "code",
   "execution_count": 31,
   "id": "bbfc85d7",
   "metadata": {},
   "outputs": [
    {
     "data": {
      "text/html": [
       "<div>\n",
       "<style scoped>\n",
       "    .dataframe tbody tr th:only-of-type {\n",
       "        vertical-align: middle;\n",
       "    }\n",
       "\n",
       "    .dataframe tbody tr th {\n",
       "        vertical-align: top;\n",
       "    }\n",
       "\n",
       "    .dataframe thead th {\n",
       "        text-align: right;\n",
       "    }\n",
       "</style>\n",
       "<table border=\"1\" class=\"dataframe\">\n",
       "  <thead>\n",
       "    <tr style=\"text-align: right;\">\n",
       "      <th></th>\n",
       "      <th>CONTACT_ID</th>\n",
       "      <th>ACTIVITY TYPE</th>\n",
       "      <th>ACTIVITY DATE</th>\n",
       "      <th>ACTIVITY DATE KEY</th>\n",
       "    </tr>\n",
       "  </thead>\n",
       "  <tbody>\n",
       "    <tr>\n",
       "      <th>0</th>\n",
       "      <td>1153</td>\n",
       "      <td>PhoneCall</td>\n",
       "      <td>2022-06-02</td>\n",
       "      <td>20220602</td>\n",
       "    </tr>\n",
       "    <tr>\n",
       "      <th>1</th>\n",
       "      <td>1129</td>\n",
       "      <td>Note</td>\n",
       "      <td>2022-06-22</td>\n",
       "      <td>20220622</td>\n",
       "    </tr>\n",
       "    <tr>\n",
       "      <th>2</th>\n",
       "      <td>1700</td>\n",
       "      <td>Note</td>\n",
       "      <td>2022-07-21</td>\n",
       "      <td>20220721</td>\n",
       "    </tr>\n",
       "    <tr>\n",
       "      <th>3</th>\n",
       "      <td>1978</td>\n",
       "      <td>Email</td>\n",
       "      <td>2021-09-28</td>\n",
       "      <td>20210928</td>\n",
       "    </tr>\n",
       "    <tr>\n",
       "      <th>4</th>\n",
       "      <td>1978</td>\n",
       "      <td>FollowUp</td>\n",
       "      <td>2022-03-16</td>\n",
       "      <td>20220316</td>\n",
       "    </tr>\n",
       "  </tbody>\n",
       "</table>\n",
       "</div>"
      ],
      "text/plain": [
       "   CONTACT_ID ACTIVITY TYPE ACTIVITY DATE  ACTIVITY DATE KEY\n",
       "0        1153     PhoneCall    2022-06-02           20220602\n",
       "1        1129          Note    2022-06-22           20220622\n",
       "2        1700          Note    2022-07-21           20220721\n",
       "3        1978         Email    2021-09-28           20210928\n",
       "4        1978      FollowUp    2022-03-16           20220316"
      ]
     },
     "execution_count": 31,
     "metadata": {},
     "output_type": "execute_result"
    }
   ],
   "source": [
    "Activity_Details.head()"
   ]
  },
  {
   "cell_type": "markdown",
   "id": "0ec15337",
   "metadata": {},
   "source": [
    "* The basic information of each column in the following cell."
   ]
  },
  {
   "cell_type": "code",
   "execution_count": 32,
   "id": "40c5dd6d",
   "metadata": {},
   "outputs": [
    {
     "name": "stdout",
     "output_type": "stream",
     "text": [
      "<class 'pandas.core.frame.DataFrame'>\n",
      "RangeIndex: 17308 entries, 0 to 17307\n",
      "Data columns (total 4 columns):\n",
      " #   Column             Non-Null Count  Dtype         \n",
      "---  ------             --------------  -----         \n",
      " 0   CONTACT_ID         17308 non-null  int64         \n",
      " 1   ACTIVITY TYPE      17308 non-null  object        \n",
      " 2   ACTIVITY DATE      17308 non-null  datetime64[ns]\n",
      " 3   ACTIVITY DATE KEY  17308 non-null  int64         \n",
      "dtypes: datetime64[ns](1), int64(2), object(1)\n",
      "memory usage: 541.0+ KB\n"
     ]
    }
   ],
   "source": [
    "Activity_Details.info()"
   ]
  },
  {
   "cell_type": "code",
   "execution_count": 33,
   "id": "8b3d2b84",
   "metadata": {},
   "outputs": [],
   "source": [
    "def month_key(date_key):\n",
    "    date_key = str(date_key)\n",
    "    return date_key[0:6]\n",
    "Activity_Details['MONTH_KEY'] = Activity_Details['ACTIVITY DATE KEY'].apply(month_key)"
   ]
  },
  {
   "cell_type": "markdown",
   "id": "06e1d307",
   "metadata": {},
   "source": [
    "Count of differnt types of Activities"
   ]
  },
  {
   "cell_type": "code",
   "execution_count": 34,
   "id": "b402aa79",
   "metadata": {},
   "outputs": [
    {
     "data": {
      "text/plain": [
       "ACTIVITY TYPE\n",
       "Message           1843\n",
       "VoiceMail         1834\n",
       "Note              1792\n",
       "Meeting           1792\n",
       "FollowUp          1789\n",
       "Seminar           1770\n",
       "Email             1759\n",
       "PhoneCall         1709\n",
       "SurveyResponse    1611\n",
       "ConferenceCall    1409\n",
       "Name: count, dtype: int64"
      ]
     },
     "execution_count": 34,
     "metadata": {},
     "output_type": "execute_result"
    }
   ],
   "source": [
    "Activity_Details['ACTIVITY TYPE'].value_counts()"
   ]
  },
  {
   "cell_type": "markdown",
   "id": "1395e15b",
   "metadata": {},
   "source": [
    "### Insight 8: Message and VoiceMail is the most used modes of communication by the Sales Team followed by VoiceMail."
   ]
  },
  {
   "cell_type": "markdown",
   "id": "c4a95c54",
   "metadata": {},
   "source": [
    "# Advisors Details Data Set Exploration"
   ]
  },
  {
   "cell_type": "code",
   "execution_count": 35,
   "id": "82e1d4ff",
   "metadata": {},
   "outputs": [
    {
     "name": "stdout",
     "output_type": "stream",
     "text": [
      "<class 'pandas.core.frame.DataFrame'>\n",
      "RangeIndex: 1000 entries, 0 to 999\n",
      "Data columns (total 23 columns):\n",
      " #   Column          Non-Null Count  Dtype         \n",
      "---  ------          --------------  -----         \n",
      " 0   CONTACT ID      1000 non-null   int64         \n",
      " 1   NICK_NAME       1000 non-null   object        \n",
      " 2   FIRST_NAME      1000 non-null   object        \n",
      " 3   MIDDLE_NAME     7 non-null      object        \n",
      " 4   LAST_NAME       1000 non-null   object        \n",
      " 5   PREFIX          457 non-null    object        \n",
      " 6   SUFFIX          278 non-null    object        \n",
      " 7   MOBILE_PHONE    960 non-null    object        \n",
      " 8   FIRM ID         1000 non-null   int64         \n",
      " 9   PRIMARY_EMAIL   945 non-null    object        \n",
      " 10  UNSUBSCRIBED    945 non-null    object        \n",
      " 11  STREET_1        1000 non-null   object        \n",
      " 12  CITY            1000 non-null   object        \n",
      " 13  STATE           1000 non-null   object        \n",
      " 14  ZIP             1000 non-null   int64         \n",
      " 15  COUNTRY         1000 non-null   object        \n",
      " 16  SEGMENT         1000 non-null   object        \n",
      " 17  BIRTHDATE       1000 non-null   datetime64[ns]\n",
      " 18  Industry EXP    1000 non-null   int64         \n",
      " 19  Firm EXP        1000 non-null   int64         \n",
      " 20  FIRM            1000 non-null   object        \n",
      " 21  PARENT FIRM ID  1000 non-null   int64         \n",
      " 22  PARENT FIRM     1000 non-null   object        \n",
      "dtypes: datetime64[ns](1), int64(6), object(16)\n",
      "memory usage: 179.8+ KB\n"
     ]
    }
   ],
   "source": [
    "# Merging the Firm Details and Advisors Details Dataset.\n",
    "AdvDetFirms = pd.merge(Advisors_Details, Firm_Details, on='FIRM ID', how='left')\n",
    "AdvDetFirms.info()"
   ]
  },
  {
   "cell_type": "code",
   "execution_count": 36,
   "id": "cb543c7f",
   "metadata": {},
   "outputs": [],
   "source": [
    "AdvDetFirms = AdvDetFirms.loc[:, ['CONTACT ID', 'FIRM ID', 'CITY', 'STATE', 'ZIP', 'COUNTRY', 'SEGMENT', 'Industry EXP', 'Firm EXP', 'FIRM']]"
   ]
  },
  {
   "cell_type": "code",
   "execution_count": 37,
   "id": "a9ae2304",
   "metadata": {},
   "outputs": [
    {
     "name": "stdout",
     "output_type": "stream",
     "text": [
      "<class 'pandas.core.frame.DataFrame'>\n",
      "RangeIndex: 1000 entries, 0 to 999\n",
      "Data columns (total 10 columns):\n",
      " #   Column        Non-Null Count  Dtype \n",
      "---  ------        --------------  ----- \n",
      " 0   CONTACT ID    1000 non-null   int64 \n",
      " 1   FIRM ID       1000 non-null   int64 \n",
      " 2   CITY          1000 non-null   object\n",
      " 3   STATE         1000 non-null   object\n",
      " 4   ZIP           1000 non-null   int64 \n",
      " 5   COUNTRY       1000 non-null   object\n",
      " 6   SEGMENT       1000 non-null   object\n",
      " 7   Industry EXP  1000 non-null   int64 \n",
      " 8   Firm EXP      1000 non-null   int64 \n",
      " 9   FIRM          1000 non-null   object\n",
      "dtypes: int64(5), object(5)\n",
      "memory usage: 78.3+ KB\n"
     ]
    }
   ],
   "source": [
    "AdvDetFirms.info()"
   ]
  },
  {
   "cell_type": "markdown",
   "id": "2d17e368",
   "metadata": {},
   "source": [
    "* The following two box plots are for the Industry Experience and the number of years Advisors have spent in a particular firm."
   ]
  },
  {
   "cell_type": "code",
   "execution_count": 38,
   "id": "e936618c",
   "metadata": {},
   "outputs": [
    {
     "data": {
      "image/png": "[encoded data removed]",
      "text/plain": [
       "<Figure size 640x480 with 1 Axes>"
      ]
     },
     "metadata": {},
     "output_type": "display_data"
    }
   ],
   "source": [
    "sns.boxplot(data=AdvDetFirms, x='FIRM', y='Industry EXP')\n",
    "plt.xticks(rotation='vertical')\n",
    "plt.show()"
   ]
  },
  {
   "cell_type": "markdown",
   "id": "6802b319",
   "metadata": {},
   "source": [
    "### Insight 9: Bofa seems to have more experienced people compared to other companies."
   ]
  },
  {
   "cell_type": "markdown",
   "id": "d6ea68d5",
   "metadata": {},
   "source": [
    "As \"Wayne Enterprise\", \"Stark Enterprise\" and \"Wakanda Ltd\" have boxplots quite different from others, we try to see the advisors in those companies. It turns out that there is <u>only one</u> advisor in Wakanda Ltd and Wayne Enterprise. There are two advisors in Stark Enterprise."
   ]
  },
  {
   "cell_type": "code",
   "execution_count": 39,
   "id": "d4d1ca70",
   "metadata": {},
   "outputs": [
    {
     "name": "stdout",
     "output_type": "stream",
     "text": [
      "Stark Enterprise\n",
      "     CONTACT ID  FIRM ID         CITY      STATE    ZIP COUNTRY SEGMENT  \\\n",
      "516        1517     3000  Santa Clara     Oregon  46814     USA     HNW   \n",
      "851        1852     3000      Killeen  Louisiana  64598     USA     HNW   \n",
      "\n",
      "     Industry EXP  Firm EXP              FIRM  \n",
      "516            10         6  Stark Enterprise  \n",
      "851             6         3  Stark Enterprise  \n",
      "\n",
      "Wakanda Ltd\n",
      "     CONTACT ID  FIRM ID    CITY    STATE    ZIP COUNTRY SEGMENT  \\\n",
      "600        1601     2022  Austin  Arizona  57754     USA     HNW   \n",
      "\n",
      "     Industry EXP  Firm EXP         FIRM  \n",
      "600             6         4  Wakanda Ltd  \n",
      "\n",
      "Wayne Enterprise\n",
      "     CONTACT ID  FIRM ID    CITY STATE    ZIP       COUNTRY SEGMENT  \\\n",
      "397        1398     2018  Joliet  Guam  28516  United State     HNW   \n",
      "\n",
      "     Industry EXP  Firm EXP              FIRM  \n",
      "397             1         1  Wayne Enterprise  \n"
     ]
    }
   ],
   "source": [
    "print(\"Stark Enterprise\")\n",
    "print(AdvDetFirms[AdvDetFirms['FIRM']=='Stark Enterprise'])\n",
    "print(\"\\nWakanda Ltd\")\n",
    "print(AdvDetFirms[AdvDetFirms['FIRM']=='Wakanda Ltd'])\n",
    "print(\"\\nWayne Enterprise\")\n",
    "print(AdvDetFirms[AdvDetFirms['FIRM']=='Wayne Enterprise'])"
   ]
  },
  {
   "cell_type": "code",
   "execution_count": 48,
   "id": "efb108de",
   "metadata": {},
   "outputs": [
    {
     "data": {
      "text/html": [
       "<div>\n",
       "<style scoped>\n",
       "    .dataframe tbody tr th:only-of-type {\n",
       "        vertical-align: middle;\n",
       "    }\n",
       "\n",
       "    .dataframe tbody tr th {\n",
       "        vertical-align: top;\n",
       "    }\n",
       "\n",
       "    .dataframe thead th {\n",
       "        text-align: right;\n",
       "    }\n",
       "</style>\n",
       "<table border=\"1\" class=\"dataframe\">\n",
       "  <thead>\n",
       "    <tr style=\"text-align: right;\">\n",
       "      <th></th>\n",
       "      <th>CONTACT ID</th>\n",
       "      <th>FIRM ID</th>\n",
       "      <th>CITY</th>\n",
       "      <th>STATE</th>\n",
       "      <th>ZIP</th>\n",
       "      <th>COUNTRY</th>\n",
       "      <th>SEGMENT</th>\n",
       "      <th>Industry EXP</th>\n",
       "      <th>Firm EXP</th>\n",
       "      <th>FIRM</th>\n",
       "    </tr>\n",
       "  </thead>\n",
       "  <tbody>\n",
       "    <tr>\n",
       "      <th>600</th>\n",
       "      <td>1601</td>\n",
       "      <td>2022</td>\n",
       "      <td>Austin</td>\n",
       "      <td>Arizona</td>\n",
       "      <td>57754</td>\n",
       "      <td>USA</td>\n",
       "      <td>HNW</td>\n",
       "      <td>6</td>\n",
       "      <td>4</td>\n",
       "      <td>Wakanda Ltd</td>\n",
       "    </tr>\n",
       "  </tbody>\n",
       "</table>\n",
       "</div>"
      ],
      "text/plain": [
       "     CONTACT ID  FIRM ID    CITY    STATE    ZIP COUNTRY SEGMENT  \\\n",
       "600        1601     2022  Austin  Arizona  57754     USA     HNW   \n",
       "\n",
       "     Industry EXP  Firm EXP         FIRM  \n",
       "600             6         4  Wakanda Ltd  "
      ]
     },
     "execution_count": 48,
     "metadata": {},
     "output_type": "execute_result"
    }
   ],
   "source": [
    "AdvDetFirms[AdvDetFirms['FIRM']=='Wakanda Ltd']\n"
   ]
  },
  {
   "cell_type": "code",
   "execution_count": 40,
   "id": "1ac99ab6",
   "metadata": {},
   "outputs": [
    {
     "data": {
      "image/png": "[encoded data removed]",
      "text/plain": [
       "<Figure size 640x480 with 1 Axes>"
      ]
     },
     "metadata": {},
     "output_type": "display_data"
    }
   ],
   "source": [
    "sns.boxplot(data=AdvDetFirms, x='FIRM', y='Firm EXP')\n",
    "plt.xticks(rotation='vertical')\n",
    "plt.show()"
   ]
  },
  {
   "cell_type": "markdown",
   "id": "e23f32ba",
   "metadata": {},
   "source": [
    "### Insight 10: Morgan Stanley, RBC, Bofa, Edward Jones seem to be companies that, sort of, able to hold employees for long. Others do not have much employees experienced in thier own Firms. Bofa even has highest number of experienced employees."
   ]
  },
  {
   "cell_type": "code",
   "execution_count": 41,
   "id": "dad61615",
   "metadata": {},
   "outputs": [
    {
     "data": {
      "text/plain": [
       "FIRM\n",
       "Raymond James       132\n",
       "UBS                 116\n",
       "Janney              111\n",
       "JP Morgan           110\n",
       "RBC                 109\n",
       "Edward Jones        108\n",
       "Bofa                106\n",
       "Morgan Stanley      105\n",
       "Wells Fargo          99\n",
       "Stark Enterprise      2\n",
       "Wakanda Ltd           1\n",
       "Wayne Enterprise      1\n",
       "Name: CONTACT ID, dtype: int64"
      ]
     },
     "execution_count": 41,
     "metadata": {},
     "output_type": "execute_result"
    }
   ],
   "source": [
    "AdvDetFirms.groupby('FIRM')['CONTACT ID'].count().sort_values(ascending=False)"
   ]
  },
  {
   "cell_type": "markdown",
   "id": "a09dc4b3",
   "metadata": {},
   "source": [
    "### Insight 11: Raymond James stands with the higest number of Advisors."
   ]
  },
  {
   "cell_type": "code",
   "execution_count": 32,
   "id": "e6cf3a08",
   "metadata": {},
   "outputs": [
    {
     "data": {
      "text/plain": [
       "SEGMENT\n",
       "Uncovered               361\n",
       "Business Development    325\n",
       "Field                   294\n",
       "Internal                 16\n",
       "HNW                       4\n",
       "Name: count, dtype: int64"
      ]
     },
     "execution_count": 32,
     "metadata": {},
     "output_type": "execute_result"
    }
   ],
   "source": [
    "AdvDetFirms['SEGMENT'].value_counts()"
   ]
  },
  {
   "cell_type": "markdown",
   "id": "f2459fd0",
   "metadata": {},
   "source": [
    "### Insight 12: The highest number of Advisors are in Uncovered and Business Development Segment."
   ]
  },
  {
   "cell_type": "code",
   "execution_count": 54,
   "id": "0d3dbf5f",
   "metadata": {},
   "outputs": [
    {
     "data": {
      "text/html": [
       "<div>\n",
       "<style scoped>\n",
       "    .dataframe tbody tr th:only-of-type {\n",
       "        vertical-align: middle;\n",
       "    }\n",
       "\n",
       "    .dataframe tbody tr th {\n",
       "        vertical-align: top;\n",
       "    }\n",
       "\n",
       "    .dataframe thead th {\n",
       "        text-align: right;\n",
       "    }\n",
       "</style>\n",
       "<table border=\"1\" class=\"dataframe\">\n",
       "  <thead>\n",
       "    <tr style=\"text-align: right;\">\n",
       "      <th></th>\n",
       "      <th>CONTACT ID</th>\n",
       "      <th>FIRM ID</th>\n",
       "      <th>CITY</th>\n",
       "      <th>STATE</th>\n",
       "      <th>ZIP</th>\n",
       "      <th>COUNTRY</th>\n",
       "      <th>SEGMENT</th>\n",
       "      <th>Industry EXP</th>\n",
       "      <th>Firm EXP</th>\n",
       "      <th>FIRM</th>\n",
       "    </tr>\n",
       "  </thead>\n",
       "  <tbody>\n",
       "    <tr>\n",
       "      <th>397</th>\n",
       "      <td>1398</td>\n",
       "      <td>2018</td>\n",
       "      <td>Joliet</td>\n",
       "      <td>Guam</td>\n",
       "      <td>28516</td>\n",
       "      <td>United State</td>\n",
       "      <td>HNW</td>\n",
       "      <td>1</td>\n",
       "      <td>1</td>\n",
       "      <td>Wayne Enterprise</td>\n",
       "    </tr>\n",
       "  </tbody>\n",
       "</table>\n",
       "</div>"
      ],
      "text/plain": [
       "     CONTACT ID  FIRM ID    CITY STATE    ZIP       COUNTRY SEGMENT  \\\n",
       "397        1398     2018  Joliet  Guam  28516  United State     HNW   \n",
       "\n",
       "     Industry EXP  Firm EXP              FIRM  \n",
       "397             1         1  Wayne Enterprise  "
      ]
     },
     "execution_count": 54,
     "metadata": {},
     "output_type": "execute_result"
    }
   ],
   "source": [
    "AdvDetFirms['COUNTRY'].value_counts()\n",
    "AdvDetFirms[AdvDetFirms['FIRM']=='Wayne Enterprise']"
   ]
  },
  {
   "cell_type": "code",
   "execution_count": null,
   "id": "a4bfe637",
   "metadata": {},
   "outputs": [],
   "source": []
  }
 ],
 "metadata": {
  "kernelspec": {
   "display_name": "Python 3 (ipykernel)",
   "language": "python",
   "name": "python3"
  },
  "language_info": {
   "codemirror_mode": {
    "name": "ipython",
    "version": 3
   },
   "file_extension": ".py",
   "mimetype": "text/x-python",
   "name": "python",
   "nbconvert_exporter": "python",
   "pygments_lexer": "ipython3",
   "version": "3.11.5"
  }
 },
 "nbformat": 4,
 "nbformat_minor": 5
}
